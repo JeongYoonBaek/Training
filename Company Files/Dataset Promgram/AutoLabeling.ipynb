{
 "cells": [
  {
   "cell_type": "markdown",
   "metadata": {},
   "source": [
    "<h1>오토라벨링</h1> \n",
    "오토라벨링 툴인 CVAT과 가장 많이 쓰고 있는 Vision 모델인 Yolo를 접함 <br>\n",
    "Vision 모델링 관련해서 전체적인 흐름을 파악할 수 있음.<br>\n",
    "Vision 모델링 관련 파이프라인에 대한 전체 그림을 생각해 볼 수 있음<br>\n",
    "\n",
    "TensorFlow Object Detection API, Detectron2 등의 라이브러리 사용 가능 \n"
   ]
  },
  {
   "cell_type": "code",
   "execution_count": null,
   "metadata": {},
   "outputs": [],
   "source": [
    "import tensorflow as tf\n",
    "from object_detection.utils import label_map_util\n",
    "from object_detection.utils import visualization_utils as viz_utils"
   ]
  },
  {
   "cell_type": "markdown",
   "metadata": {},
   "source": [
    "> 대부분의 오토라벨링 도구는 사전 훈련된 컴퓨터 비전 모델을 사용하여 객체를 자동 감지할 수 있음. 예를 들어, TensorFlow Object Detection API, Detectron2 등의 라이브러리를 사용할 수 있음."
   ]
  },
  {
   "cell_type": "code",
   "execution_count": null,
   "metadata": {},
   "outputs": [],
   "source": []
  }
 ],
 "metadata": {
  "kernelspec": {
   "display_name": "bjy8374",
   "language": "python",
   "name": "python3"
  },
  "language_info": {
   "codemirror_mode": {
    "name": "ipython",
    "version": 3
   },
   "file_extension": ".py",
   "mimetype": "text/x-python",
   "name": "python",
   "nbconvert_exporter": "python",
   "pygments_lexer": "ipython3",
   "version": "3.8.19"
  }
 },
 "nbformat": 4,
 "nbformat_minor": 2
}
