{
 "cells": [
  {
   "cell_type": "markdown",
   "metadata": {},
   "source": [
    "<h4>1. 이미지와 객체 번호 저장</h4>\n",
    "\n",
    "- 이미지와 해당 객체 번호를 JSON 파일에 저장함\n"
   ]
  },
  {
   "cell_type": "code",
   "execution_count": 10,
   "metadata": {},
   "outputs": [],
   "source": [
    "import os\n",
    "import cv2\n",
    "import pickle\n",
    "import shutil\n",
    "import numpy as np \n",
    "from sklearn.neighbors import NearestNeighbors\n",
    "\n",
    "# 이미지 저장 경로 설정\n",
    "image_dir = \"images\"\n",
    "os.makedirs(image_dir, exist_ok=True)\n",
    "\n",
    "# 텍스트 파일 경로 설정\n",
    "metadata_file = \"metadata.txt\"\n",
    "\n",
    "# ORB 특징 추출 함수\n",
    "def extract_features(image_path):\n",
    "    image = cv2.imread(image_path, cv2.IMREAD_GRAYSCALE)\n",
    "    orb = cv2.ORB_create()\n",
    "    keypoints, descriptors = orb.detectAndCompute(image, None)\n",
    "    return descriptors\n",
    "\n",
    "# 이미지 추가 함수\n",
    "def add_image(image_path, object_type, feature_file=\"features.pkl\"):\n",
    "    # 텍스트 파일 로드 또는 초기화\n",
    "    if os.path.exists(metadata_file):\n",
    "        with open(metadata_file, 'r') as f:\n",
    "            lines = f.readlines()\n",
    "    else:\n",
    "        lines = []\n",
    "\n",
    "    if os.path.exists(feature_file):\n",
    "        with open(feature_file, 'rb') as f:\n",
    "            existing_features = pickle.load(f)\n",
    "    else:\n",
    "        existing_features = np.array([]).reshape(0, 32)  # ORB 특징 벡터 크기\n",
    "\n",
    "    new_features = extract_features(image_path)\n",
    "    if new_features is None: \n",
    "        print(\"No features found in the image.\")\n",
    "        return False\n",
    "\n",
    "    # 새로운 이미지 번호 생성\n",
    "    new_id = len(lines) + 1\n",
    "\n",
    "    existing_features = np.vstack([existing_features, new_features])\n",
    "    \n",
    "    # 텍스트 파일에 새로운 이미지 정보 추가\n",
    "    with open(metadata_file, 'a') as f:\n",
    "        f.write(f\"{new_id},{image_path},{object_type}\\n\")\n",
    "    \n",
    "    with open(feature_file, 'wb') as f:\n",
    "        pickle.dump(existing_features, f)\n",
    "    \n",
    "    print(f\"Image {new_id} added with object type {object_type}.\")\n",
    "    return True \n"
   ]
  },
  {
   "cell_type": "markdown",
   "metadata": {},
   "source": [
    "<h4>TXT 파일 읽고 0,1,2,3 객체의 이미지 파일 가져오기</h4> "
   ]
  },
  {
   "cell_type": "code",
   "execution_count": 67,
   "metadata": {},
   "outputs": [
    {
     "ename": "FileNotFoundError",
     "evalue": "[Errno 2] No such file or directory: 'metadata.txt'",
     "output_type": "error",
     "traceback": [
      "\u001b[1;31m---------------------------------------------------------------------------\u001b[0m",
      "\u001b[1;31mFileNotFoundError\u001b[0m                         Traceback (most recent call last)",
      "Cell \u001b[1;32mIn[67], line 25\u001b[0m\n\u001b[0;32m     22\u001b[0m object_types_to_search \u001b[38;5;241m=\u001b[39m [\u001b[38;5;241m0\u001b[39m, \u001b[38;5;241m1\u001b[39m, \u001b[38;5;241m2\u001b[39m, \u001b[38;5;241m3\u001b[39m]\n\u001b[0;32m     24\u001b[0m \u001b[38;5;66;03m# 함수 호출\u001b[39;00m\n\u001b[1;32m---> 25\u001b[0m found_images \u001b[38;5;241m=\u001b[39m \u001b[43mget_images_by_object_types\u001b[49m\u001b[43m(\u001b[49m\u001b[43mtxt_file_path\u001b[49m\u001b[43m,\u001b[49m\u001b[43m \u001b[49m\u001b[43mobject_types_to_search\u001b[49m\u001b[43m,\u001b[49m\u001b[43m \u001b[49m\u001b[43mimage_dir\u001b[49m\u001b[43m)\u001b[49m\n\u001b[0;32m     27\u001b[0m \u001b[38;5;66;03m# 결과 출력\u001b[39;00m\n\u001b[0;32m     28\u001b[0m \u001b[38;5;28;01mif\u001b[39;00m found_images:\n",
      "Cell \u001b[1;32mIn[67], line 10\u001b[0m, in \u001b[0;36mget_images_by_object_types\u001b[1;34m(txt_file, object_types, image_dir)\u001b[0m\n\u001b[0;32m      8\u001b[0m \u001b[38;5;28;01mdef\u001b[39;00m \u001b[38;5;21mget_images_by_object_types\u001b[39m(txt_file, object_types, image_dir):\n\u001b[0;32m      9\u001b[0m     images \u001b[38;5;241m=\u001b[39m []\n\u001b[1;32m---> 10\u001b[0m     \u001b[38;5;28;01mwith\u001b[39;00m \u001b[38;5;28;43mopen\u001b[39;49m\u001b[43m(\u001b[49m\u001b[43mtxt_file\u001b[49m\u001b[43m,\u001b[49m\u001b[43m \u001b[49m\u001b[38;5;124;43m'\u001b[39;49m\u001b[38;5;124;43mr\u001b[39;49m\u001b[38;5;124;43m'\u001b[39;49m\u001b[43m)\u001b[49m \u001b[38;5;28;01mas\u001b[39;00m f:\n\u001b[0;32m     11\u001b[0m         lines \u001b[38;5;241m=\u001b[39m f\u001b[38;5;241m.\u001b[39mreadlines()\n\u001b[0;32m     12\u001b[0m         \u001b[38;5;28;01mfor\u001b[39;00m line \u001b[38;5;129;01min\u001b[39;00m lines:\n",
      "File \u001b[1;32mc:\\Users\\kiot\\anaconda3\\envs\\bjy8374\\lib\\site-packages\\IPython\\core\\interactiveshell.py:284\u001b[0m, in \u001b[0;36m_modified_open\u001b[1;34m(file, *args, **kwargs)\u001b[0m\n\u001b[0;32m    277\u001b[0m \u001b[38;5;28;01mif\u001b[39;00m file \u001b[38;5;129;01min\u001b[39;00m {\u001b[38;5;241m0\u001b[39m, \u001b[38;5;241m1\u001b[39m, \u001b[38;5;241m2\u001b[39m}:\n\u001b[0;32m    278\u001b[0m     \u001b[38;5;28;01mraise\u001b[39;00m \u001b[38;5;167;01mValueError\u001b[39;00m(\n\u001b[0;32m    279\u001b[0m         \u001b[38;5;124mf\u001b[39m\u001b[38;5;124m\"\u001b[39m\u001b[38;5;124mIPython won\u001b[39m\u001b[38;5;124m'\u001b[39m\u001b[38;5;124mt let you open fd=\u001b[39m\u001b[38;5;132;01m{\u001b[39;00mfile\u001b[38;5;132;01m}\u001b[39;00m\u001b[38;5;124m by default \u001b[39m\u001b[38;5;124m\"\u001b[39m\n\u001b[0;32m    280\u001b[0m         \u001b[38;5;124m\"\u001b[39m\u001b[38;5;124mas it is likely to crash IPython. If you know what you are doing, \u001b[39m\u001b[38;5;124m\"\u001b[39m\n\u001b[0;32m    281\u001b[0m         \u001b[38;5;124m\"\u001b[39m\u001b[38;5;124myou can use builtins\u001b[39m\u001b[38;5;124m'\u001b[39m\u001b[38;5;124m open.\u001b[39m\u001b[38;5;124m\"\u001b[39m\n\u001b[0;32m    282\u001b[0m     )\n\u001b[1;32m--> 284\u001b[0m \u001b[38;5;28;01mreturn\u001b[39;00m \u001b[43mio_open\u001b[49m\u001b[43m(\u001b[49m\u001b[43mfile\u001b[49m\u001b[43m,\u001b[49m\u001b[43m \u001b[49m\u001b[38;5;241;43m*\u001b[39;49m\u001b[43margs\u001b[49m\u001b[43m,\u001b[49m\u001b[43m \u001b[49m\u001b[38;5;241;43m*\u001b[39;49m\u001b[38;5;241;43m*\u001b[39;49m\u001b[43mkwargs\u001b[49m\u001b[43m)\u001b[49m\n",
      "\u001b[1;31mFileNotFoundError\u001b[0m: [Errno 2] No such file or directory: 'metadata.txt'"
     ]
    }
   ],
   "source": [
    "import os\n",
    "\n",
    "# 텍스트 파일 경로 설정\n",
    "txt_file_path = \"metadata.txt\"\n",
    "image_dir = \"images\"\n",
    "\n",
    "# 함수 정의: 특정 객체 번호에 해당하는 이미지 가져오기\n",
    "def get_images_by_object_types(txt_file, object_types, image_dir):\n",
    "    images = []\n",
    "    with open(txt_file, 'r') as f:\n",
    "        lines = f.readlines()\n",
    "        for line in lines:\n",
    "            parts = line.strip().split(',')\n",
    "            if len(parts) == 3:\n",
    "                image_path = parts[1].strip()\n",
    "                obj_type = int(parts[2].strip())\n",
    "                if obj_type in object_types and os.path.exists(image_path):\n",
    "                    images.append(image_path)\n",
    "    return images\n",
    "\n",
    "# 특정 객체 번호 리스트 설정\n",
    "object_types_to_search = [0, 1, 2, 3]\n",
    "\n",
    "# 함수 호출\n",
    "found_images = get_images_by_object_types(txt_file_path, object_types_to_search, image_dir)\n",
    "\n",
    "# 결과 출력\n",
    "if found_images:\n",
    "    print(\"Found images:\")\n",
    "    for img_path in found_images:\n",
    "        print(img_path)\n",
    "else:\n",
    "    print(\"No images found for the specified object types.\")\n"
   ]
  },
  {
   "cell_type": "markdown",
   "metadata": {},
   "source": [
    "<h4>2. 특정 객체 번호에 해당하는 이미지 검색</h4>\n",
    "\n",
    "- 메타데이터 파일에서 객체 번호 검색하여 해당 이미지를 반환하는함수"
   ]
  },
  {
   "cell_type": "code",
   "execution_count": 2,
   "metadata": {},
   "outputs": [
    {
     "name": "stdout",
     "output_type": "stream",
     "text": [
      "No features found in the image.\n",
      "No features found in the image.\n",
      "No features found in the image.\n",
      "No features found in the image.\n",
      "No metadata found. Add images first.\n"
     ]
    }
   ],
   "source": [
    "# 특정 객체 번호에 해당하는 이미지 검색 함수\n",
    "def search_image_by_object_type(object_type):\n",
    "    if not os.path.exists(metadata_file):\n",
    "        print(\"No metadata found. Add images first.\")\n",
    "        return None\n",
    "    \n",
    "    with open(metadata_file, 'r') as f:\n",
    "        metadata = json.load(f)\n",
    "    \n",
    "    matching_images = [item[\"path\"] for item in metadata if item[\"object_type\"] == object_type]\n",
    "    \n",
    "    if matching_images:\n",
    "        return matching_images\n",
    "    else:\n",
    "        print(f\"No images found with object type {object_type}.\")\n",
    "        return None\n",
    "\n",
    "# 이미지 추가 예시\n",
    "add_image('path_to_image_of_man.jpg', 0)\n",
    "add_image('path_to_image_of_woman.jpg', 1)\n",
    "add_image('path_to_image_of_bicycle.jpg', 2)\n",
    "add_image('path_to_image_of_motorcycle.jpg', 3)\n",
    "\n",
    "# 특정 객체 번호에 해당하는 이미지 검색 예시\n",
    "object_type_to_search = 0  # 남자 객체 번호\n",
    "result_images = search_image_by_object_type(object_type_to_search)\n",
    "if result_images:\n",
    "    for img_path in result_images:\n",
    "        print(f\"Image with object type {object_type_to_search}: {img_path}\")\n"
   ]
  },
  {
   "cell_type": "markdown",
   "metadata": {},
   "source": [
    "<h4>3. 필요한 라이브러리 및 경로 설정</h4>"
   ]
  },
  {
   "cell_type": "code",
   "execution_count": 3,
   "metadata": {},
   "outputs": [],
   "source": [
    "import os\n",
    "import json\n",
    "import shutil\n",
    "\n",
    "# JSON 파일 경로 설정\n",
    "metadata_file = \"metadata.json\"\n",
    "\n",
    "# 특정 객체 번호에 해당하는 이미지 복사 경로 설정\n",
    "target_dir = \"filtered_images\"\n",
    "os.makedirs(target_dir, exist_ok=True)\n"
   ]
  },
  {
   "cell_type": "markdown",
   "metadata": {},
   "source": [
    "<h4>4. 특정 객체 번호에 해당하는 이미지 복사 함수</h4>\n"
   ]
  },
  {
   "cell_type": "code",
   "execution_count": 4,
   "metadata": {},
   "outputs": [],
   "source": [
    "def copy_images_by_object_type(object_type, target_dir):\n",
    "    if not os.path.exists(metadata_file):\n",
    "        print(\"No metadata found. Add images first.\")\n",
    "        return\n",
    "    \n",
    "    with open(metadata_file, 'r') as f:\n",
    "        metadata = json.load(f)\n",
    "    \n",
    "    matching_images = [item[\"path\"] for item in metadata if item[\"object_type\"] == object_type]\n",
    "    \n",
    "    if not matching_images:\n",
    "        print(f\"No images found with object type {object_type}.\")\n",
    "        return\n",
    "    \n",
    "    for img_path in matching_images:\n",
    "        if os.path.exists(img_path):\n",
    "            shutil.copy(img_path, target_dir)\n",
    "            print(f\"Copied {img_path} to {target_dir}.\")\n",
    "        else: \n",
    "            print(f\"Image {img_path} not found.\")\n"
   ]
  },
  {
   "cell_type": "markdown",
   "metadata": {},
   "source": [
    "<h4>5. txt 파일 내에서 지정한 객체 번호 이외의 숫자 제거</h4>"
   ]
  },
  {
   "cell_type": "code",
   "execution_count": 5,
   "metadata": {},
   "outputs": [
    {
     "name": "stdout",
     "output_type": "stream",
     "text": [
      "No metadata found. Add images first.\n",
      "No metadata found. Add images first.\n",
      "path_to_your_file.txt not found.\n"
     ]
    }
   ],
   "source": [
    "def filter_txt_file(txt_file_path, valid_object_types):\n",
    "    if not os.path.exists(txt_file_path):\n",
    "        print(f\"{txt_file_path} not found.\")\n",
    "        return\n",
    "    \n",
    "    with open(txt_file_path, 'r') as f:\n",
    "        lines = f.readlines()\n",
    "    \n",
    "    filtered_lines = [line for line in lines if int(line.strip()) in valid_object_types]\n",
    "    \n",
    "    with open(txt_file_path, 'w') as f:\n",
    "        f.writelines(filtered_lines)\n",
    "    \n",
    "    print(f\"Filtered lines in {txt_file_path}.\")\n",
    "\n",
    "# 특정 객체 번호 예시\n",
    "object_types_to_keep = [0, 2]  # 예: 남자와 자전거만 유지\n",
    "\n",
    "# 이미지 복사 예시\n",
    "for object_type in object_types_to_keep:\n",
    "    copy_images_by_object_type(object_type, target_dir)\n",
    "\n",
    "# txt 파일 필터링 예시\n",
    "filter_txt_file('path_to_your_file.txt', object_types_to_keep)\n"
   ]
  },
  {
   "cell_type": "markdown",
   "metadata": {},
   "source": [
    "<h4> 6. 이미지 데이터베이스 준비</h4>"
   ]
  },
  {
   "cell_type": "code",
   "execution_count": 6,
   "metadata": {},
   "outputs": [],
   "source": [
    "import os\n",
    "\n",
    "# 이미지 저장 경로 설정\n",
    "image_dir = \"images\"\n",
    "os.makedirs(image_dir, exist_ok=True)\n"
   ]
  },
  {
   "cell_type": "markdown",
   "metadata": {},
   "source": [
    "<h4> 7. 이미지 특징 추출</h4>"
   ]
  },
  {
   "cell_type": "code",
   "execution_count": 7,
   "metadata": {},
   "outputs": [],
   "source": [
    "import cv2\n",
    "import numpy as np\n",
    "\n",
    "def extract_features(image_path):\n",
    "        image = cv2.imread(image_path, cv2.IMREAD_GRAYSCALE)\n",
    "        orb = cv2.ORB_create()\n",
    "        keypoints, descriptors = orb.detectAndCompute(image, None)\n",
    "        return descriptors"
   ]
  },
  {
   "cell_type": "markdown",
   "metadata": {},
   "source": [
    "<h4>8. 중복 이미지 탐지</h4>"
   ]
  },
  {
   "cell_type": "code",
   "execution_count": 8,
   "metadata": {},
   "outputs": [],
   "source": [
    "from sklearn.neighbors import NearestNeighbors\n",
    "\n",
    "def is_duplicate(image_path, existing_features, threshold=0.7):\n",
    "    new_features = extract_features(image_path)\n",
    "    if new_features is None:\n",
    "        return False\n",
    "    \n",
    "    # NearestNeighbors 모델 생성 및 학습\n",
    "    nn = NearestNeighbors(n_neighbors=1, metric='hamming')\n",
    "    nn.fit(existing_features)\n",
    "    \n",
    "    distances, indices = nn.kneighbors(new_features)\n",
    "    avg_distance = np.mean(distances)\n",
    "    \n",
    "    return avg_distance < threshold\n"
   ]
  },
  {
   "cell_type": "markdown",
   "metadata": {},
   "source": [
    "<h4>9. 새로운 이미지 추가 시 학습 데이터 업데이트</h4>"
   ]
  },
  {
   "cell_type": "code",
   "execution_count": 9,
   "metadata": {},
   "outputs": [],
   "source": [
    "import pickle\n",
    "\n",
    "def add_image(image_path, feature_file=\"features.pkl\"):\n",
    "    if os.path.exists(feature_file):\n",
    "        with open(feature_file, 'rb') as f:\n",
    "            existing_features = pickle.load(f)\n",
    "    else:\n",
    "        existing_features = np.array([]).reshape(0, 32)  # ORB 특징 벡터 크기\n",
    "\n",
    "    if is_duplicate(image_path, existing_features):\n",
    "        print(f\"{image_path} is a duplicate.\")\n",
    "        return False\n",
    "    else:\n",
    "        new_features = extract_features(image_path)\n",
    "        existing_features = np.vstack([existing_features, new_features])\n",
    "        with open(feature_file, 'wb') as f:\n",
    "            pickle.dump(existing_features, f)\n",
    "        print(f\"{image_path} added.\")\n",
    "        return True\n"
   ]
  },
  {
   "cell_type": "markdown",
   "metadata": {},
   "source": [
    "<h4>10. 검색을 통해 이미지 추출</h4>"
   ]
  },
  {
   "cell_type": "code",
   "execution_count": 76,
   "metadata": {},
   "outputs": [
    {
     "ename": "ValueError",
     "evalue": "all the input array dimensions except for the concatenation axis must match exactly, but along dimension 1, the array at index 0 has size 32 and the array at index 1 has size 1",
     "output_type": "error",
     "traceback": [
      "\u001b[1;31m---------------------------------------------------------------------------\u001b[0m",
      "\u001b[1;31mValueError\u001b[0m                                Traceback (most recent call last)",
      "Cell \u001b[1;32mIn[76], line 23\u001b[0m\n\u001b[0;32m     20\u001b[0m     \u001b[38;5;28;01mreturn\u001b[39;00m existing_features[closest_index]\n\u001b[0;32m     22\u001b[0m \u001b[38;5;66;03m# 이미지 추가 예시\u001b[39;00m\n\u001b[1;32m---> 23\u001b[0m \u001b[43madd_image\u001b[49m\u001b[43m(\u001b[49m\u001b[38;5;124;43m'\u001b[39;49m\u001b[38;5;124;43mC:\u001b[39;49m\u001b[38;5;130;43;01m\\\\\u001b[39;49;00m\u001b[38;5;124;43mUsers\u001b[39;49m\u001b[38;5;130;43;01m\\\\\u001b[39;49;00m\u001b[38;5;124;43mkiot\u001b[39;49m\u001b[38;5;130;43;01m\\\\\u001b[39;49;00m\u001b[38;5;124;43mYolo V5\u001b[39;49m\u001b[38;5;130;43;01m\\\\\u001b[39;49;00m\u001b[38;5;124;43myolov5\u001b[39;49m\u001b[38;5;130;43;01m\\\\\u001b[39;49;00m\u001b[38;5;124;43mDatasetProgram\u001b[39;49m\u001b[38;5;130;43;01m\\\\\u001b[39;49;00m\u001b[38;5;124;43mimages\u001b[39;49m\u001b[38;5;130;43;01m\\\\\u001b[39;49;00m\u001b[38;5;124;43mimages/214501174_6db1f4d69c.jpg\u001b[39;49m\u001b[38;5;124;43m'\u001b[39;49m\u001b[43m)\u001b[49m\n\u001b[0;32m     25\u001b[0m \u001b[38;5;66;03m# 이미지 검색 예시\u001b[39;00m\n\u001b[0;32m     26\u001b[0m result \u001b[38;5;241m=\u001b[39m search_image(\u001b[38;5;124m'\u001b[39m\u001b[38;5;124m214501174_6db1f4d69c.jpg\u001b[39m\u001b[38;5;124m'\u001b[39m)\n",
      "Cell \u001b[1;32mIn[75], line 15\u001b[0m, in \u001b[0;36madd_image\u001b[1;34m(image_path, feature_file)\u001b[0m\n\u001b[0;32m     13\u001b[0m \u001b[38;5;28;01melse\u001b[39;00m:\n\u001b[0;32m     14\u001b[0m     new_features \u001b[38;5;241m=\u001b[39m extract_features(image_path)\n\u001b[1;32m---> 15\u001b[0m     existing_features \u001b[38;5;241m=\u001b[39m \u001b[43mnp\u001b[49m\u001b[38;5;241;43m.\u001b[39;49m\u001b[43mvstack\u001b[49m\u001b[43m(\u001b[49m\u001b[43m[\u001b[49m\u001b[43mexisting_features\u001b[49m\u001b[43m,\u001b[49m\u001b[43m \u001b[49m\u001b[43mnew_features\u001b[49m\u001b[43m]\u001b[49m\u001b[43m)\u001b[49m\n\u001b[0;32m     16\u001b[0m     \u001b[38;5;28;01mwith\u001b[39;00m \u001b[38;5;28mopen\u001b[39m(feature_file, \u001b[38;5;124m'\u001b[39m\u001b[38;5;124mwb\u001b[39m\u001b[38;5;124m'\u001b[39m) \u001b[38;5;28;01mas\u001b[39;00m f:\n\u001b[0;32m     17\u001b[0m         pickle\u001b[38;5;241m.\u001b[39mdump(existing_features, f)\n",
      "File \u001b[1;32m<__array_function__ internals>:200\u001b[0m, in \u001b[0;36mvstack\u001b[1;34m(*args, **kwargs)\u001b[0m\n",
      "File \u001b[1;32mc:\\Users\\kiot\\anaconda3\\envs\\bjy8374\\lib\\site-packages\\numpy\\core\\shape_base.py:296\u001b[0m, in \u001b[0;36mvstack\u001b[1;34m(tup, dtype, casting)\u001b[0m\n\u001b[0;32m    294\u001b[0m \u001b[38;5;28;01mif\u001b[39;00m \u001b[38;5;129;01mnot\u001b[39;00m \u001b[38;5;28misinstance\u001b[39m(arrs, \u001b[38;5;28mlist\u001b[39m):\n\u001b[0;32m    295\u001b[0m     arrs \u001b[38;5;241m=\u001b[39m [arrs]\n\u001b[1;32m--> 296\u001b[0m \u001b[38;5;28;01mreturn\u001b[39;00m \u001b[43m_nx\u001b[49m\u001b[38;5;241;43m.\u001b[39;49m\u001b[43mconcatenate\u001b[49m\u001b[43m(\u001b[49m\u001b[43marrs\u001b[49m\u001b[43m,\u001b[49m\u001b[43m \u001b[49m\u001b[38;5;241;43m0\u001b[39;49m\u001b[43m,\u001b[49m\u001b[43m \u001b[49m\u001b[43mdtype\u001b[49m\u001b[38;5;241;43m=\u001b[39;49m\u001b[43mdtype\u001b[49m\u001b[43m,\u001b[49m\u001b[43m \u001b[49m\u001b[43mcasting\u001b[49m\u001b[38;5;241;43m=\u001b[39;49m\u001b[43mcasting\u001b[49m\u001b[43m)\u001b[49m\n",
      "File \u001b[1;32m<__array_function__ internals>:200\u001b[0m, in \u001b[0;36mconcatenate\u001b[1;34m(*args, **kwargs)\u001b[0m\n",
      "\u001b[1;31mValueError\u001b[0m: all the input array dimensions except for the concatenation axis must match exactly, but along dimension 1, the array at index 0 has size 32 and the array at index 1 has size 1"
     ]
    }
   ],
   "source": [
    "def search_image(query_image_path, feature_file=\"features.pkl\"):\n",
    "    if not os.path.exists(feature_file):\n",
    "        print(\"No features found. Add images first.\")\n",
    "        return None\n",
    "    \n",
    "    with open(feature_file, 'rb') as f:\n",
    "        existing_features = pickle.load(f)\n",
    "    \n",
    "    query_features = extract_features(query_image_path)\n",
    "    if query_features is None:\n",
    "        print(\"No features found in query image.\")\n",
    "        return None\n",
    "    \n",
    "    nn = NearestNeighbors(n_neighbors=1, metric='hamming')\n",
    "    nn.fit(existing_features)\n",
    "    \n",
    "    distances, indices = nn.kneighbors(query_features)\n",
    "    closest_index = indices[0][0]\n",
    "    \n",
    "    return existing_features[closest_index]\n",
    "\n",
    "# 이미지 추가 예시\n",
    "add_image('C:\\\\Users\\\\kiot\\\\Yolo V5\\\\yolov5\\\\DatasetProgram\\\\images\\\\images/214501174_6db1f4d69c.jpg')\n",
    "\n",
    "# 이미지 검색 예시\n",
    "result = search_image('214501174_6db1f4d69c.jpg')\n",
    "if result is not None:\n",
    "    print(\"Matching image found.\") \n"
   ]
  }
 ],
 "metadata": {
  "kernelspec": {
   "display_name": "bjy8374",
   "language": "python",
   "name": "python3"
  },
  "language_info": {
   "codemirror_mode": {
    "name": "ipython",
    "version": 3
   },
   "file_extension": ".py",
   "mimetype": "text/x-python",
   "name": "python",
   "nbconvert_exporter": "python",
   "pygments_lexer": "ipython3",
   "version": "3.8.19"
  }
 },
 "nbformat": 4,
 "nbformat_minor": 2
}
